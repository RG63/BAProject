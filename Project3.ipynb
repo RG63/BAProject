{
 "cells": [
  {
   "cell_type": "code",
   "execution_count": 15,
   "id": "1155eb16-84bc-4851-96b6-b2fbd17c408e",
   "metadata": {
    "tags": []
   },
   "outputs": [],
   "source": [
    "import pandas as pd\n",
    "import numpy as np"
   ]
  },
  {
   "cell_type": "code",
   "execution_count": 16,
   "id": "b5d2beb0-01db-4016-8387-a1e3f9931852",
   "metadata": {
    "tags": []
   },
   "outputs": [],
   "source": [
    "# Load the data\n",
    "df = pd.read_pickle('shared/Project-3_NYC_311_Calls.pkl')\n"
   ]
  },
  {
   "cell_type": "markdown",
   "id": "7288655c-4d7b-43cb-af37-89524144e920",
   "metadata": {
    "tags": []
   },
   "source": [
    "Due to the kernel memory size, we will find a way to deal with millions of data entries. The method here is to optimize data types for reducing memory usage."
   ]
  },
  {
   "cell_type": "code",
   "execution_count": 18,
   "id": "9904bbd2-2611-4d9c-9a64-69b2c7d92e8b",
   "metadata": {
    "tags": []
   },
   "outputs": [],
   "source": [
    "# Optimize numerical columns\n",
    "for col in df.select_dtypes(include=['int', 'float']).columns:\n",
    "    df[col] = pd.to_numeric(df[col], downcast='integer')\n",
    "\n",
    "# Convert object columns to category if they have a limited set of values\n",
    "for col in df.select_dtypes(include=['object']).columns:\n",
    "    if df[col].nunique() / len(df[col]) < 0.5:\n",
    "        df[col] = df[col].astype('category')\n"
   ]
  },
  {
   "cell_type": "code",
   "execution_count": 3,
   "id": "477d8f4c-1f68-471e-b7eb-efb477ef5320",
   "metadata": {
    "tags": []
   },
   "outputs": [
    {
     "name": "stdout",
     "output_type": "stream",
     "text": [
      "   Unique Key        Created Date Agency  \\\n",
      "0    20184537 2011-04-06 00:00:00    HPD   \n",
      "1    20184538 2011-04-06 00:00:00    HPD   \n",
      "2    20184539 2011-04-06 00:00:00    HPD   \n",
      "3    54732265 2022-07-08 11:14:43   DSNY   \n",
      "4    20184540 2011-04-06 00:00:00    HPD   \n",
      "\n",
      "                                         Agency Name        Complaint Type  \\\n",
      "0  Department of Housing Preservation and Develop...               HEATING   \n",
      "1  Department of Housing Preservation and Develop...  GENERAL CONSTRUCTION   \n",
      "2  Department of Housing Preservation and Develop...       PAINT - PLASTER   \n",
      "3                           Department of Sanitation       Dirty Condition   \n",
      "4  Department of Housing Preservation and Develop...              NONCONST   \n",
      "\n",
      "  Descriptor         Location Type Incident Zip      City  \\\n",
      "0       HEAT  RESIDENTIAL BUILDING      10002.0  NEW YORK   \n",
      "1    WINDOWS  RESIDENTIAL BUILDING      11236.0  BROOKLYN   \n",
      "2      WALLS  RESIDENTIAL BUILDING      10460.0     BRONX   \n",
      "3      Trash              Sidewalk      10467.0     BRONX   \n",
      "4     VERMIN  RESIDENTIAL BUILDING      10460.0     BRONX   \n",
      "\n",
      "                              Resolution Description    Borough  \\\n",
      "0  More than one complaint was received for this ...  MANHATTAN   \n",
      "1  The Department of Housing Preservation and Dev...   BROOKLYN   \n",
      "2  The Department of Housing Preservation and Dev...      BRONX   \n",
      "3  The Department of Sanitation investigated this...      BRONX   \n",
      "4  The Department of Housing Preservation and Dev...      BRONX   \n",
      "\n",
      "  Open Data Channel Type  \n",
      "0                UNKNOWN  \n",
      "1                UNKNOWN  \n",
      "2                UNKNOWN  \n",
      "3                  PHONE  \n",
      "4                UNKNOWN  \n"
     ]
    }
   ],
   "source": [
    "# Display the first few rows\n",
    "print(df.head())"
   ]
  },
  {
   "cell_type": "code",
   "execution_count": 4,
   "id": "0984faa5-bc9f-43ea-b7ca-72d7b1881aeb",
   "metadata": {
    "tags": []
   },
   "outputs": [
    {
     "name": "stdout",
     "output_type": "stream",
     "text": [
      "<class 'pandas.core.frame.DataFrame'>\n",
      "RangeIndex: 33780977 entries, 0 to 33780976\n",
      "Data columns (total 12 columns):\n",
      " #   Column                  Dtype         \n",
      "---  ------                  -----         \n",
      " 0   Unique Key              int64         \n",
      " 1   Created Date            datetime64[ns]\n",
      " 2   Agency                  object        \n",
      " 3   Agency Name             object        \n",
      " 4   Complaint Type          object        \n",
      " 5   Descriptor              object        \n",
      " 6   Location Type           object        \n",
      " 7   Incident Zip            object        \n",
      " 8   City                    object        \n",
      " 9   Resolution Description  object        \n",
      " 10  Borough                 object        \n",
      " 11  Open Data Channel Type  object        \n",
      "dtypes: datetime64[ns](1), int64(1), object(10)\n",
      "memory usage: 3.0+ GB\n",
      "None\n"
     ]
    }
   ],
   "source": [
    "# General information about the dataset\n",
    "print(df.info())\n"
   ]
  },
  {
   "cell_type": "code",
   "execution_count": 5,
   "id": "deabfb49-958c-4171-b911-b718eb9b36fd",
   "metadata": {
    "tags": []
   },
   "outputs": [
    {
     "name": "stdout",
     "output_type": "stream",
     "text": [
      "         Unique Key                   Created Date\n",
      "count  3.378098e+07                       33780977\n",
      "mean   3.802665e+07  2017-06-24 23:32:20.293824512\n",
      "min    1.056422e+07            2010-01-01 00:00:00\n",
      "25%    2.793121e+07            2014-04-08 10:35:34\n",
      "50%    3.798303e+07            2017-11-14 12:46:13\n",
      "75%    4.830951e+07            2020-12-02 07:49:48\n",
      "max    5.840682e+07            2023-08-04 12:00:00\n",
      "std    1.209574e+07                            NaN\n"
     ]
    }
   ],
   "source": [
    "# Statistical summary\n",
    "print(df.describe())"
   ]
  },
  {
   "cell_type": "code",
   "execution_count": 6,
   "id": "d167704a-b7d3-4dc9-bc28-0d03c5dae43d",
   "metadata": {
    "tags": []
   },
   "outputs": [
    {
     "name": "stdout",
     "output_type": "stream",
     "text": [
      "Unique Key                      0\n",
      "Created Date                    0\n",
      "Agency                          0\n",
      "Agency Name                     0\n",
      "Complaint Type                  0\n",
      "Descriptor                 586677\n",
      "Location Type             7140574\n",
      "Incident Zip              1507958\n",
      "City                      1981664\n",
      "Resolution Description    1254890\n",
      "Borough                     47074\n",
      "Open Data Channel Type          0\n",
      "dtype: int64\n"
     ]
    }
   ],
   "source": [
    "# Checking for missing values\n",
    "print(df.isnull().sum())"
   ]
  },
  {
   "cell_type": "code",
   "execution_count": 4,
   "id": "0dfd13c4-3870-4540-9ce0-52ea1b5e857a",
   "metadata": {},
   "outputs": [],
   "source": [
    "# Fill missing values\n",
    "df.fillna('unknown', inplace=True)"
   ]
  },
  {
   "cell_type": "code",
   "execution_count": 8,
   "id": "5ddf5955-e2b5-45c0-8f31-ca8dcb55a43c",
   "metadata": {
    "tags": []
   },
   "outputs": [
    {
     "name": "stdout",
     "output_type": "stream",
     "text": [
      "Unique Key                0\n",
      "Created Date              0\n",
      "Agency                    0\n",
      "Agency Name               0\n",
      "Complaint Type            0\n",
      "Descriptor                0\n",
      "Location Type             0\n",
      "Incident Zip              0\n",
      "City                      0\n",
      "Resolution Description    0\n",
      "Borough                   0\n",
      "Open Data Channel Type    0\n",
      "dtype: int64\n"
     ]
    }
   ],
   "source": [
    "# Checking for missing values\n",
    "print(df.isnull().sum())"
   ]
  },
  {
   "cell_type": "code",
   "execution_count": 20,
   "id": "e1778bd3-35eb-4cee-8b99-c988d60111c2",
   "metadata": {
    "tags": []
   },
   "outputs": [],
   "source": [
    "# Convert 'Created Date' to datetime and set as index\n",
    "df['Created Date'] = pd.to_datetime(df['Created Date'])\n",
    "df = df.set_index(df['Created Date'])\n",
    "del df['Created Date']\n"
   ]
  },
  {
   "cell_type": "markdown",
   "id": "6aeae41c-5b83-4ba9-9c07-183403fef9b2",
   "metadata": {},
   "source": [
    "What is the average number of daily complaints received in 2022?"
   ]
  },
  {
   "cell_type": "code",
   "execution_count": 21,
   "id": "e404102a-a6a2-4402-808c-0e1b4de64ba3",
   "metadata": {},
   "outputs": [
    {
     "data": {
      "text/plain": [
       "8684.320547945206"
      ]
     },
     "execution_count": 21,
     "metadata": {},
     "output_type": "execute_result"
    }
   ],
   "source": [
    "# Filter data for the year 2022\n",
    "df_2022 = df['2022-01-01':'2022-12-31']\n",
    "\n",
    "# Resample by day and count complaints\n",
    "daily_complaints_2022 = df_2022.resample('D').count()\n",
    "\n",
    "# Calculate the average number of daily complaints\n",
    "average_daily_complaints = daily_complaints_2022['Unique Key'].mean()\n",
    "average_daily_complaints\n"
   ]
  },
  {
   "cell_type": "markdown",
   "id": "ad462b5a-ea49-47e6-8dbb-b6281094888b",
   "metadata": {},
   "source": [
    "On which single date were the maximum number of calls received?"
   ]
  },
  {
   "cell_type": "code",
   "execution_count": 22,
   "id": "1fc6885b-88ed-4612-9350-e34c8a0a6ff5",
   "metadata": {
    "tags": []
   },
   "outputs": [
    {
     "data": {
      "text/plain": [
       "datetime.date(2020, 8, 4)"
      ]
     },
     "execution_count": 22,
     "metadata": {},
     "output_type": "execute_result"
    }
   ],
   "source": [
    "# Ensure 'Created Date' is the index and in datetime format if it's not already\n",
    "if not isinstance(df.index, pd.DatetimeIndex):\n",
    "    df['Created Date'] = pd.to_datetime(df['Created Date'])\n",
    "    df = df.set_index('Created Date')\n",
    "\n",
    "# Resample by day and count complaints\n",
    "daily_complaints = df.resample('D').count()\n",
    "\n",
    "# Identify the date with the maximum number of complaints\n",
    "max_complaints_date = daily_complaints['Unique Key'].idxmax()\n",
    "max_complaints_date.date()"
   ]
  },
  {
   "cell_type": "markdown",
   "id": "59315d9a-b02a-428d-9e6f-e5f874d1eb7a",
   "metadata": {},
   "source": [
    "On the date the maximum number of calls were received, what was the most important complaint type?"
   ]
  },
  {
   "cell_type": "code",
   "execution_count": 24,
   "id": "7d57d2d6-43ed-4e94-a46b-7885d9e67b56",
   "metadata": {
    "tags": []
   },
   "outputs": [
    {
     "name": "stdout",
     "output_type": "stream",
     "text": [
      "The most common complaint on 2020-08-04 was: Damaged Tree\n"
     ]
    }
   ],
   "source": [
    "# Convert index to DatetimeIndex if it's not already\n",
    "if not isinstance(df.index, pd.DatetimeIndex):\n",
    "    df.index = pd.to_datetime(df.index)\n",
    "\n",
    "# Normalize the max_complaints_date to remove time component\n",
    "max_complaints_date = pd.to_datetime(max_complaints_date).normalize()\n",
    "\n",
    "# Filter data for the max complaints date\n",
    "data_on_max_date = df[df.index.normalize() == max_complaints_date]\n",
    "\n",
    "# Find the most common complaint type\n",
    "most_common_complaint = data_on_max_date['Complaint Type'].value_counts().idxmax()\n",
    "print(f\"The most common complaint on {max_complaints_date.date()} was: {most_common_complaint}\")\n"
   ]
  },
  {
   "cell_type": "markdown",
   "id": "111bca0d-48e8-4126-9c57-6dfe2ef82645",
   "metadata": {},
   "source": [
    "Quietest month: Group the data by months, and identify the month that historically has the fewest number of calls."
   ]
  },
  {
   "cell_type": "code",
   "execution_count": 31,
   "id": "d0346399-521a-4ea7-a6ca-ea59fd7fa09e",
   "metadata": {
    "tags": []
   },
   "outputs": [
    {
     "data": {
      "text/plain": [
       "'Aug'"
      ]
     },
     "execution_count": 31,
     "metadata": {},
     "output_type": "execute_result"
    }
   ],
   "source": [
    "# Group the data by month\n",
    "df_monthly = df.groupby(df.index.to_period('M')).size()\n",
    "# Find the fewest number of calls month\n",
    "quietest_month = df_monthly.idxmin().strftime('%b')\n",
    "quietest_month"
   ]
  },
  {
   "cell_type": "markdown",
   "id": "b1555570-8e85-4305-b3c7-39e4833c0570",
   "metadata": {},
   "source": [
    "Resample your time series to a daily frequency.  Perform ETS decomposition based on an additive model.  What is the value of the seasonal component on 2020-12-25 (rounded to the nearest integer)?"
   ]
  },
  {
   "cell_type": "code",
   "execution_count": 32,
   "id": "277b7786-da69-40f2-b6b2-dc266f64ce59",
   "metadata": {
    "tags": []
   },
   "outputs": [
    {
     "data": {
      "text/plain": [
       "183"
      ]
     },
     "execution_count": 32,
     "metadata": {},
     "output_type": "execute_result"
    }
   ],
   "source": [
    "import statsmodels.api as sm\n",
    "\n",
    "# Ensure the DataFrame index is in datetime format\n",
    "if not isinstance(df.index, pd.DatetimeIndex):\n",
    "    df.index = pd.to_datetime(df.index)\n",
    "\n",
    "# Resample to daily frequency and count calls\n",
    "daily_calls = df.resample('D').size()\n",
    "\n",
    "# Perform ETS decomposition\n",
    "decomposition = sm.tsa.seasonal_decompose(daily_calls, model='additive')\n",
    "\n",
    "# Extract the seasonal component\n",
    "seasonal_component = decomposition.seasonal\n",
    "\n",
    "# Find the value for 2020-12-25\n",
    "seasonal_value = seasonal_component.loc['2020-12-25']\n",
    "rounded_value = round(seasonal_value)\n",
    "\n",
    "rounded_value\n"
   ]
  },
  {
   "cell_type": "markdown",
   "id": "176f70e1-e67b-4870-b725-0d6da66ef729",
   "metadata": {},
   "source": [
    "Calculate the autocorrelation of the number of daily calls with the number of calls the day prior, ie lag of 1.  (Use the daily series)."
   ]
  },
  {
   "cell_type": "code",
   "execution_count": 33,
   "id": "b990d8ff-6b75-4c36-bb02-3953be90e31d",
   "metadata": {
    "tags": []
   },
   "outputs": [
    {
     "data": {
      "text/plain": [
       "0.7517059728398577"
      ]
     },
     "execution_count": 33,
     "metadata": {},
     "output_type": "execute_result"
    }
   ],
   "source": [
    "# Calculate autocorrelation for lag of 1\n",
    "autocorrelation = daily_calls.autocorr(lag=1)\n",
    "autocorrelation\n"
   ]
  },
  {
   "cell_type": "markdown",
   "id": "9844d51e-3d46-40a9-9833-40ca3a3f5d73",
   "metadata": {},
   "source": [
    "Forecast the daily series with a test set of 90 days using the Prophet library.  What is your RMSE on your test set?"
   ]
  },
  {
   "cell_type": "code",
   "execution_count": 34,
   "id": "75a76dac-9e03-4047-a144-8e5fa28e23ac",
   "metadata": {
    "tags": []
   },
   "outputs": [
    {
     "name": "stderr",
     "output_type": "stream",
     "text": [
      "15:56:39 - cmdstanpy - INFO - Chain [1] start processing\n",
      "15:56:40 - cmdstanpy - INFO - Chain [1] done processing\n"
     ]
    },
    {
     "data": {
      "text/plain": [
       "1231.513760758433"
      ]
     },
     "execution_count": 34,
     "metadata": {},
     "output_type": "execute_result"
    }
   ],
   "source": [
    "from prophet import Prophet\n",
    "from sklearn.metrics import mean_squared_error\n",
    "\n",
    "# Prepare data for Prophet\n",
    "df_prophet = daily_calls.reset_index()\n",
    "df_prophet.columns = ['ds', 'y']\n",
    "\n",
    "# Split into training and test set (last 90 days as test set)\n",
    "train = df_prophet.iloc[:-90]\n",
    "test = df_prophet.iloc[-90:]\n",
    "\n",
    "# Create and fit the Prophet model\n",
    "model = Prophet()\n",
    "model.fit(train)\n",
    "\n",
    "# Make predictions on the test set\n",
    "future = test.drop(columns='y')\n",
    "forecast = model.predict(future)\n",
    "\n",
    "# Calculate RMSE\n",
    "rmse = np.sqrt(mean_squared_error(test['y'], forecast['yhat']))\n",
    "rmse\n"
   ]
  },
  {
   "cell_type": "code",
   "execution_count": null,
   "id": "06feed8b-10ac-48ad-a7bb-278af1b9523f",
   "metadata": {},
   "outputs": [],
   "source": []
  }
 ],
 "metadata": {
  "kernelspec": {
   "display_name": "Python [conda env:mggy8413]",
   "language": "python",
   "name": "conda-env-mggy8413-py"
  },
  "language_info": {
   "codemirror_mode": {
    "name": "ipython",
    "version": 3
   },
   "file_extension": ".py",
   "mimetype": "text/x-python",
   "name": "python",
   "nbconvert_exporter": "python",
   "pygments_lexer": "ipython3",
   "version": "3.10.12"
  }
 },
 "nbformat": 4,
 "nbformat_minor": 5
}
